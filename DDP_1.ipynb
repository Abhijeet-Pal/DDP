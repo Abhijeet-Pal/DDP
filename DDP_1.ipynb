{
  "cells": [
    {
      "cell_type": "code",
      "execution_count": null,
      "metadata": {
        "colab": {
          "base_uri": "https://localhost:8080/"
        },
        "id": "UOeArXxMbfpH",
        "outputId": "826b1ab4-5cce-47e7-8985-a126cca0fd2e"
      },
      "outputs": [
        {
          "name": "stdout",
          "output_type": "stream",
          "text": [
            "Folder: New_Dataset_080424\n",
            "Subfolders: ['Purple_Blotch_Annotated', 'Basal_Rot', 'Stemphylium_Blight']\n",
            "\n",
            "Folder: New_Dataset_261223\n",
            "Subfolders: ['Anthracnose', 'Healthy']\n",
            "\n",
            "Folder: New_Dataset-030923\n",
            "Subfolders: ['Healthy_Bulb', 'IYSV', 'Thrips Insect photo', 'Bulb Rot', 'Healthy_Seed', 'Thrips symtom']\n",
            "\n",
            "Folder: New_Dataset-220424\n",
            "Subfolders: ['Anthracnose', 'Healthy', 'Purple Blotch', 'Stemphylium', 'Twister']\n",
            "\n"
          ]
        }
      ],
      "source": [
        "import os\n",
        "\n",
        "root_path = '/content/drive/My Drive/Raw_Dataset'\n",
        "\n",
        "folders_dict = {}\n",
        "for folder_name in os.listdir(root_path):\n",
        "    folder_path = os.path.join(root_path, folder_name)\n",
        "    if os.path.isdir(folder_path):\n",
        "        folders_dict[folder_name] = []\n",
        "        if folder_name == 'New_Dataset_261223':\n",
        "          tfolder = os.listdir(folder_path)\n",
        "          folder_path = os.path.join(folder_path, tfolder[0])\n",
        "        for subfolder_name in os.listdir(folder_path):\n",
        "            subfolder_path = os.path.join(folder_path, subfolder_name)\n",
        "\n",
        "            if os.path.isdir(subfolder_path):\n",
        "                folders_dict[folder_name].append(subfolder_name)\n",
        "\n",
        "for folder, subfolders in folders_dict.items():\n",
        "    print(f\"Folder: {folder}\")\n",
        "    print(f\"Subfolders: {subfolders}\")\n",
        "    print()"
      ]
    },
    {
      "cell_type": "code",
      "execution_count": null,
      "metadata": {
        "colab": {
          "base_uri": "https://localhost:8080/"
        },
        "id": "O1TiXKvwcIm-",
        "outputId": "d3a2f95f-4afd-4e5e-a07f-8f81cabc1d39"
      },
      "outputs": [
        {
          "data": {
            "text/plain": [
              "{'New_Dataset_080424': ['Purple_Blotch_Annotated',\n",
              "  'Basal_Rot',\n",
              "  'Stemphylium_Blight'],\n",
              " 'New_Dataset_261223': ['Anthracnose', 'Healthy'],\n",
              " 'New_Dataset-030923': ['Healthy_Bulb',\n",
              "  'IYSV',\n",
              "  'Thrips Insect photo',\n",
              "  'Bulb Rot',\n",
              "  'Healthy_Seed',\n",
              "  'Thrips symtom'],\n",
              " 'New_Dataset-220424': ['Anthracnose',\n",
              "  'Healthy',\n",
              "  'Purple Blotch',\n",
              "  'Stemphylium',\n",
              "  'Twister']}"
            ]
          },
          "execution_count": 2,
          "metadata": {},
          "output_type": "execute_result"
        }
      ],
      "source": [
        "folders_dict"
      ]
    },
    {
      "cell_type": "code",
      "execution_count": null,
      "metadata": {
        "id": "pP3L5sq4cYtI"
      },
      "outputs": [],
      "source": [
        "import os\n",
        "root_path = '/content/drive/My Drive/Raw_Dataset'\n",
        "jpg_files_dict = {}\n",
        "\n",
        "def collect_jpg_files(folder_path):\n",
        "    jpg_files = [f for f in os.listdir(folder_path) if f.lower().endswith('.jpg')]\n",
        "    jpg_files_paths = [os.path.join(folder_path, f) for f in jpg_files]\n",
        "    return jpg_files_paths\n",
        "\n",
        "for main_folder, subfolders in folders_dict.items():\n",
        "    main_folder_path = os.path.join(root_path, main_folder)\n",
        "    if main_folder == 'New_Dataset_261223':\n",
        "      tfolder = os.listdir(main_folder_path)\n",
        "      main_folder_path = os.path.join(folder_path, tfolder[0])\n",
        "    for subfolder in subfolders:\n",
        "        subfolder_path = os.path.join(main_folder_path, subfolder)\n",
        "\n",
        "        if os.path.isdir(subfolder_path):\n",
        "            jpg_files = collect_jpg_files(subfolder_path)\n",
        "            jpg_files_dict[subfolder] = jpg_files"
      ]
    },
    {
      "cell_type": "code",
      "execution_count": null,
      "metadata": {
        "colab": {
          "base_uri": "https://localhost:8080/"
        },
        "id": "yYp32TH8ho4l",
        "outputId": "a947fccf-11f3-42c4-d72a-7d947c22d03d"
      },
      "outputs": [
        {
          "name": "stdout",
          "output_type": "stream",
          "text": [
            "Subfolder: Purple_Blotch_Annotated\n",
            "Number of JPEG files: 197\n",
            "\n",
            "Subfolder: Basal_Rot\n",
            "Number of JPEG files: 140\n",
            "\n",
            "Subfolder: Stemphylium_Blight\n",
            "Number of JPEG files: 261\n",
            "\n",
            "Subfolder: Healthy_Bulb\n",
            "Number of JPEG files: 42\n",
            "\n",
            "Subfolder: IYSV\n",
            "Number of JPEG files: 754\n",
            "\n",
            "Subfolder: Thrips Insect photo\n",
            "Number of JPEG files: 240\n",
            "\n",
            "Subfolder: Bulb Rot\n",
            "Number of JPEG files: 669\n",
            "\n",
            "Subfolder: Healthy_Seed\n",
            "Number of JPEG files: 98\n",
            "\n",
            "Subfolder: Thrips symtom\n",
            "Number of JPEG files: 306\n",
            "\n",
            "Subfolder: Anthracnose\n",
            "Number of JPEG files: 204\n",
            "\n",
            "Subfolder: Healthy\n",
            "Number of JPEG files: 600\n",
            "\n",
            "Subfolder: Purple Blotch\n",
            "Number of JPEG files: 209\n",
            "\n",
            "Subfolder: Stemphylium\n",
            "Number of JPEG files: 400\n",
            "\n",
            "Subfolder: Twister\n",
            "Number of JPEG files: 317\n",
            "\n"
          ]
        }
      ],
      "source": [
        "for subfolder, jpg_files in jpg_files_dict.items():\n",
        "    print(f\"Subfolder: {subfolder}\")\n",
        "    print(f\"Number of JPEG files: {len(jpg_files)}\")\n",
        "    print()"
      ]
    },
    {
      "cell_type": "code",
      "execution_count": null,
      "metadata": {
        "id": "zw08ThcApu8V"
      },
      "outputs": [],
      "source": [
        "healthy_files = jpg_files_dict.pop('Healthy')\n",
        "healthy_bulb_files = jpg_files_dict.pop('Healthy_Bulb')\n",
        "healthy_seed = jpg_files_dict.pop('Healthy_Seed')\n",
        "thrips_insect_photo = jpg_files_dict.pop('Thrips Insect photo')\n",
        "thrips_symptom = jpg_files_dict.pop('Thrips symtom')\n",
        "stemphylium_blight = jpg_files_dict.pop('Stemphylium_Blight')\n",
        "stemphylium = jpg_files_dict.pop('Stemphylium')\n",
        "merged_healthy_files = healthy_files + healthy_bulb_files + healthy_seed\n",
        "merged_thrips = thrips_insect_photo + thrips_symptom\n",
        "merged_stemphylium = stemphylium_blight + stemphylium\n",
        "purple_blotch_annotated = jpg_files_dict.pop('Purple_Blotch_Annotated')\n",
        "purple_blotch = jpg_files_dict.pop('Purple Blotch')\n",
        "merged_purple_blotch = purple_blotch_annotated + purple_blotch\n",
        "jpg_files_dict['Merged_Healthy'] = merged_healthy_files\n",
        "jpg_files_dict['merged_thrips'] = merged_thrips\n",
        "jpg_files_dict['merged_stemphylium'] = merged_stemphylium\n",
        "jpg_files_dict['merged_purple_blotch'] = merged_purple_blotch"
      ]
    },
    {
      "cell_type": "code",
      "execution_count": null,
      "metadata": {
        "colab": {
          "base_uri": "https://localhost:8080/"
        },
        "id": "gJOVxJD3qJaL",
        "outputId": "f53c8cda-b129-4699-c40b-713ea6031b4a"
      },
      "outputs": [
        {
          "name": "stdout",
          "output_type": "stream",
          "text": [
            "Subfolder: Basal_Rot\n",
            "Number of JPEG files: 140\n",
            "\n",
            "Subfolder: IYSV\n",
            "Number of JPEG files: 754\n",
            "\n",
            "Subfolder: Bulb Rot\n",
            "Number of JPEG files: 669\n",
            "\n",
            "Subfolder: Anthracnose\n",
            "Number of JPEG files: 204\n",
            "\n",
            "Subfolder: Twister\n",
            "Number of JPEG files: 317\n",
            "\n",
            "Subfolder: Merged_Healthy\n",
            "Number of JPEG files: 740\n",
            "\n",
            "Subfolder: merged_thrips\n",
            "Number of JPEG files: 546\n",
            "\n",
            "Subfolder: merged_stemphylium\n",
            "Number of JPEG files: 661\n",
            "\n",
            "Subfolder: merged_purple_blotch\n",
            "Number of JPEG files: 406\n",
            "\n"
          ]
        }
      ],
      "source": [
        "for subfolder, jpg_files in jpg_files_dict.items():\n",
        "    print(f\"Subfolder: {subfolder}\")\n",
        "    print(f\"Number of JPEG files: {len(jpg_files)}\")\n",
        "    print()"
      ]
    },
    {
      "cell_type": "code",
      "execution_count": null,
      "metadata": {
        "id": "YIQcuqSwuDjD"
      },
      "outputs": [],
      "source": [
        "import os\n",
        "import torch\n",
        "import torchvision.transforms as transforms\n",
        "from torchvision import datasets, models\n",
        "from torch.utils.data import DataLoader, random_split\n",
        "import torch.optim as optim\n",
        "import torch.nn as nn\n",
        "import matplotlib.pyplot as plt\n"
      ]
    },
    {
      "cell_type": "code",
      "execution_count": null,
      "metadata": {
        "id": "hLtuKJq-uGUS"
      },
      "outputs": [],
      "source": [
        "transform = transforms.Compose([\n",
        "    transforms.Resize((224, 224)),\n",
        "    transforms.ToTensor(),\n",
        "    transforms.Normalize(mean=[0.485, 0.456, 0.406], std=[0.229, 0.224, 0.225])\n",
        "])\n"
      ]
    },
    {
      "cell_type": "code",
      "execution_count": null,
      "metadata": {
        "id": "G7RyYrSYuK5Y"
      },
      "outputs": [],
      "source": [
        "import os\n",
        "from PIL import Image\n",
        "from torch.utils.data import Dataset, DataLoader\n",
        "import torchvision.transforms as transforms\n",
        "\n",
        "class CustomImageDataset(Dataset):\n",
        "    def __init__(self, jpg_files_dict, transform=None):\n",
        "        self.transform = transform\n",
        "        self.image_paths = []\n",
        "        self.labels = []\n",
        "        self.label_map = {}\n",
        "        self._prepare_data(jpg_files_dict)\n",
        "\n",
        "    def _prepare_data(self, jpg_files_dict):\n",
        "        for label_idx, (subfolder, file_paths) in enumerate(jpg_files_dict.items()):\n",
        "            self.label_map[subfolder] = label_idx\n",
        "            for file_path in file_paths:\n",
        "                self.image_paths.append(file_path)\n",
        "                self.labels.append(label_idx)\n",
        "\n",
        "    def __len__(self):\n",
        "        return len(self.image_paths)\n",
        "\n",
        "    def __getitem__(self, idx):\n",
        "        img_path = self.image_paths[idx]\n",
        "        try:\n",
        "            image = Image.open(img_path).convert('RGB')\n",
        "        except (OSError, IOError) as e:\n",
        "            print(f'Error loading image {img_path}: {e}')\n",
        "            image = Image.new('RGB', (224, 224))\n",
        "            label = self.labels[idx]\n",
        "        else:\n",
        "            label = self.labels[idx]\n",
        "\n",
        "        if self.transform:\n",
        "            image = self.transform(image)\n",
        "\n",
        "        return image, label\n",
        "dataset = CustomImageDataset(jpg_files_dict=jpg_files_dict, transform=transform)\n"
      ]
    },
    {
      "cell_type": "code",
      "execution_count": null,
      "metadata": {
        "id": "B9sLcTUsykGq"
      },
      "outputs": [],
      "source": [
        "device = torch.device('cuda' if torch.cuda.is_available() else 'cpu')\n",
        "\n",
        "import numpy as np\n",
        "import torch\n",
        "class_counts = []\n",
        "for subfolder, jpg_files in jpg_files_dict.items():\n",
        "    class_counts.append(len(jpg_files))\n",
        "def compute_class_weights(label_map, dataset):\n",
        "    class_weights = np.max(class_counts) / class_counts\n",
        "    class_weights = torch.tensor(class_weights, dtype=torch.float).to(device)\n",
        "    return class_weights\n",
        "\n",
        "class_weights = compute_class_weights(dataset.label_map, dataset)\n",
        "criterion = nn.CrossEntropyLoss(weight=class_weights)\n"
      ]
    },
    {
      "cell_type": "code",
      "execution_count": null,
      "metadata": {
        "id": "RS4xw_wmuUTc"
      },
      "outputs": [],
      "source": [
        "\n",
        "train_size = int(0.8 * len(dataset))\n",
        "val_size = len(dataset) - train_size\n",
        "train_dataset, val_dataset = random_split(dataset, [train_size, val_size])\n",
        "train_loader = DataLoader(train_dataset, batch_size=32, shuffle=True, num_workers=2)\n",
        "val_loader = DataLoader(val_dataset, batch_size=32, shuffle=False, num_workers=2)"
      ]
    },
    {
      "cell_type": "code",
      "execution_count": null,
      "metadata": {
        "colab": {
          "base_uri": "https://localhost:8080/"
        },
        "id": "89fswXBzuZYP",
        "outputId": "c3b74ae2-1a29-4edd-bca4-6a352d434e13"
      },
      "outputs": [
        {
          "data": {
            "text/plain": [
              "{'Basal_Rot': 0,\n",
              " 'IYSV': 1,\n",
              " 'Bulb Rot': 2,\n",
              " 'Anthracnose': 3,\n",
              " 'Twister': 4,\n",
              " 'Merged_Healthy': 5,\n",
              " 'merged_thrips': 6,\n",
              " 'merged_stemphylium': 7,\n",
              " 'merged_purple_blotch': 8}"
            ]
          },
          "execution_count": 12,
          "metadata": {},
          "output_type": "execute_result"
        }
      ],
      "source": [
        "dataset.label_map"
      ]
    },
    {
      "cell_type": "code",
      "execution_count": 15,
      "metadata": {
        "colab": {
          "base_uri": "https://localhost:8080/"
        },
        "id": "WkQFoNG_qbxO",
        "outputId": "1586179a-7831-49dd-b5d7-4de5c43cb0a8"
      },
      "outputs": [
        {
          "name": "stderr",
          "output_type": "stream",
          "text": [
            "/usr/local/lib/python3.10/dist-packages/torchvision/models/_utils.py:208: UserWarning: The parameter 'pretrained' is deprecated since 0.13 and may be removed in the future, please use 'weights' instead.\n",
            "  warnings.warn(\n",
            "/usr/local/lib/python3.10/dist-packages/torchvision/models/_utils.py:223: UserWarning: Arguments other than a weight enum or `None` for 'weights' are deprecated since 0.13 and may be removed in the future. The current behavior is equivalent to passing `weights=ResNet50_Weights.IMAGENET1K_V1`. You can also use `weights=ResNet50_Weights.DEFAULT` to get the most up-to-date weights.\n",
            "  warnings.warn(msg)\n"
          ]
        }
      ],
      "source": [
        "model = models.resnet50(pretrained=True)"
      ]
    },
    {
      "cell_type": "code",
      "execution_count": 17,
      "metadata": {
        "colab": {
          "base_uri": "https://localhost:8080/"
        },
        "id": "HAKdx9L-qekA",
        "outputId": "c5610c51-6a2a-4a58-9e0f-607997f30983"
      },
      "outputs": [
        {
          "name": "stdout",
          "output_type": "stream",
          "text": [
            "Linear(in_features=2048, out_features=9, bias=True)\n"
          ]
        }
      ],
      "source": [
        "import torch.nn as nn\n",
        "print(nn.Linear(2048, 9))"
      ]
    },
    {
      "cell_type": "code",
      "execution_count": null,
      "metadata": {
        "colab": {
          "base_uri": "https://localhost:8080/"
        },
        "id": "ChPA5lvjuaWT",
        "outputId": "fc342396-e29d-4b38-f4d7-aa08b5c45de5"
      },
      "outputs": [
        {
          "name": "stderr",
          "output_type": "stream",
          "text": [
            "/usr/local/lib/python3.10/dist-packages/torchvision/models/_utils.py:208: UserWarning: The parameter 'pretrained' is deprecated since 0.13 and may be removed in the future, please use 'weights' instead.\n",
            "  warnings.warn(\n",
            "/usr/local/lib/python3.10/dist-packages/torchvision/models/_utils.py:223: UserWarning: Arguments other than a weight enum or `None` for 'weights' are deprecated since 0.13 and may be removed in the future. The current behavior is equivalent to passing `weights=ResNet50_Weights.IMAGENET1K_V1`. You can also use `weights=ResNet50_Weights.DEFAULT` to get the most up-to-date weights.\n",
            "  warnings.warn(msg)\n",
            "Downloading: \"https://download.pytorch.org/models/resnet50-0676ba61.pth\" to /root/.cache/torch/hub/checkpoints/resnet50-0676ba61.pth\n",
            "100%|██████████| 97.8M/97.8M [00:00<00:00, 129MB/s]\n"
          ]
        },
        {
          "name": "stdout",
          "output_type": "stream",
          "text": [
            "Error loading image /content/drive/My Drive/Raw_Dataset/New_Dataset_080424/Purple_Blotch_Annotated/PB_D_E6_21_11_2023_DSC_7578.JPG: broken data stream when reading image file\n",
            "Error loading image /content/drive/My Drive/Raw_Dataset/New_Dataset_080424/Purple_Blotch_Annotated/PB_D_E6_18_11_2023_DSC_7116.JPG: broken data stream when reading image file\n",
            "Error loading image /content/drive/My Drive/Raw_Dataset/New_Dataset_080424/Purple_Blotch_Annotated/PB_D_E6_21_11_2023_DSC_7631.JPG: broken data stream when reading image file\n",
            "Error loading image /content/drive/My Drive/Raw_Dataset/New_Dataset_080424/Purple_Blotch_Annotated/PB_D_E6_18_11_2023_DSC_7118.JPG: broken data stream when reading image file\n",
            "Error loading image /content/drive/My Drive/Raw_Dataset/New_Dataset_080424/Purple_Blotch_Annotated/PB_D_E6_18_11_2023_DSC_7113.JPG: broken data stream when reading image file\n",
            "Error loading image /content/drive/My Drive/Raw_Dataset/New_Dataset_080424/Purple_Blotch_Annotated/PB_D_E6_21_11_2023_DSC_7698.JPG: broken data stream when reading image file\n",
            "Error loading image /content/drive/My Drive/Raw_Dataset/New_Dataset_080424/Purple_Blotch_Annotated/PB_D_E6_21_11_2023_DSC_7557.JPG: broken data stream when reading image file\n",
            "Error loading image /content/drive/My Drive/Raw_Dataset/New_Dataset_080424/Purple_Blotch_Annotated/PB_D_E6_18_11_2023_DSC_7182.JPG: broken data stream when reading image file\n",
            "Epoch 1/10 Loss: 1.2331 Accuracy: 0.6104\n",
            "Saved best model with accuracy: 0.6104\n",
            "Error loading image /content/drive/My Drive/Raw_Dataset/New_Dataset_080424/Purple_Blotch_Annotated/PB_D_E6_21_11_2023_DSC_7698.JPG: broken data stream when reading image file\n",
            "Error loading image /content/drive/My Drive/Raw_Dataset/New_Dataset_080424/Purple_Blotch_Annotated/PB_D_E6_21_11_2023_DSC_7631.JPG: broken data stream when reading image file\n",
            "Error loading image /content/drive/My Drive/Raw_Dataset/New_Dataset_080424/Purple_Blotch_Annotated/PB_D_E6_18_11_2023_DSC_7118.JPG: broken data stream when reading image file\n",
            "Error loading image /content/drive/My Drive/Raw_Dataset/New_Dataset_080424/Purple_Blotch_Annotated/PB_D_E6_21_11_2023_DSC_7557.JPG: broken data stream when reading image file\n",
            "Error loading image /content/drive/My Drive/Raw_Dataset/New_Dataset_080424/Purple_Blotch_Annotated/PB_D_E6_18_11_2023_DSC_7116.JPG: broken data stream when reading image file\n",
            "Error loading image /content/drive/My Drive/Raw_Dataset/New_Dataset_080424/Purple_Blotch_Annotated/PB_D_E6_21_11_2023_DSC_7578.JPG: broken data stream when reading image file\n",
            "Error loading image /content/drive/My Drive/Raw_Dataset/New_Dataset_080424/Purple_Blotch_Annotated/PB_D_E6_18_11_2023_DSC_7113.JPG: broken data stream when reading image file\n",
            "Error loading image /content/drive/My Drive/Raw_Dataset/New_Dataset_080424/Purple_Blotch_Annotated/PB_D_E6_18_11_2023_DSC_7182.JPG: broken data stream when reading image file\n",
            "Epoch 2/10 Loss: 0.8087 Accuracy: 0.6453\n",
            "Saved best model with accuracy: 0.6453\n",
            "Error loading image /content/drive/My Drive/Raw_Dataset/New_Dataset_080424/Purple_Blotch_Annotated/PB_D_E6_21_11_2023_DSC_7631.JPG: broken data stream when reading image file\n",
            "Error loading image /content/drive/My Drive/Raw_Dataset/New_Dataset_080424/Purple_Blotch_Annotated/PB_D_E6_18_11_2023_DSC_7118.JPG: broken data stream when reading image file\n",
            "Error loading image /content/drive/My Drive/Raw_Dataset/New_Dataset_080424/Purple_Blotch_Annotated/PB_D_E6_21_11_2023_DSC_7698.JPG: broken data stream when reading image file\n",
            "Error loading image /content/drive/My Drive/Raw_Dataset/New_Dataset_080424/Purple_Blotch_Annotated/PB_D_E6_21_11_2023_DSC_7578.JPG: broken data stream when reading image file\n"
          ]
        }
      ],
      "source": [
        "import torch\n",
        "import torch.nn as nn\n",
        "import torch.optim as optim\n",
        "import torchvision.models as models\n",
        "\n",
        "model = models.resnet50(pretrained=True)\n",
        "num_classes = len(jpg_files_dict)\n",
        "model.fc = nn.Linear(model.fc.in_features, num_classes)\n",
        "device = torch.device('cuda' if torch.cuda.is_available() else 'cpu')\n",
        "model.to(device)\n",
        "\n",
        "criterion = criterion\n",
        "optimizer = optim.Adam(model.parameters(), lr=0.001)\n",
        "\n",
        "def train_model(model, train_loader, val_loader, criterion, optimizer, num_epochs=5):\n",
        "    best_acc = 0.0\n",
        "    for epoch in range(num_epochs):\n",
        "        model.train()\n",
        "        running_loss = 0.0\n",
        "        for inputs, labels in train_loader:\n",
        "            inputs, labels = inputs.to(device), labels.to(device)\n",
        "\n",
        "            optimizer.zero_grad()\n",
        "\n",
        "            outputs = model(inputs)\n",
        "            loss = criterion(outputs, labels)\n",
        "            loss.backward()\n",
        "            optimizer.step()\n",
        "\n",
        "            running_loss += loss.item() * inputs.size(0)\n",
        "\n",
        "        epoch_loss = running_loss / len(train_loader.dataset)\n",
        "\n",
        "        model.eval()\n",
        "        corrects = 0\n",
        "        total = 0\n",
        "        with torch.no_grad():\n",
        "            for inputs, labels in val_loader:\n",
        "                inputs, labels = inputs.to(device), labels.to(device)\n",
        "                outputs = model(inputs)\n",
        "                _, predicted = torch.max(outputs, 1)\n",
        "                total += labels.size(0)\n",
        "                corrects += (predicted == labels).sum().item()\n",
        "\n",
        "        epoch_acc = corrects / total\n",
        "        print(f'Epoch {epoch + 1}/{num_epochs} Loss: {epoch_loss:.4f} Accuracy: {epoch_acc:.4f}')\n",
        "\n",
        "        if epoch_acc > best_acc:\n",
        "            best_acc = epoch_acc\n",
        "            torch.save(model.state_dict(), 'best_model.pth')\n",
        "            print('Saved best model with accuracy: {:.4f}'.format(best_acc))\n",
        "\n",
        "    print('Training complete.')\n",
        "    print('Best Validation Accuracy: {:.4f}'.format(best_acc))\n",
        "\n",
        "train_model(model, train_loader, val_loader, criterion, optimizer, num_epochs=10)\n",
        "def evaluate_model(model, val_loader):\n",
        "    model.eval()\n",
        "    corrects = 0\n",
        "    total = 0\n",
        "    with torch.no_grad():\n",
        "        for inputs, labels in val_loader:\n",
        "            inputs, labels = inputs.to(device), labels.to(device)\n",
        "            outputs = model(inputs)\n",
        "            _, predicted = torch.max(outputs, 1)\n",
        "            total += labels.size(0)\n",
        "            corrects += (predicted == labels).sum().item()\n",
        "\n",
        "    accuracy = corrects / total\n",
        "    print(f'Validation Accuracy: {accuracy:.4f}')\n",
        "\n",
        "model.load_state_dict(torch.load('best_model.pth'))\n",
        "\n",
        "evaluate_model(model, val_loader)\n"
      ]
    },
    {
      "cell_type": "code",
      "execution_count": 1,
      "metadata": {
        "colab": {
          "base_uri": "https://localhost:8080/"
        },
        "id": "z_dtWPaSgigi",
        "outputId": "a271761a-2f54-496c-8200-e40bccf28057"
      },
      "outputs": [
        {
          "name": "stderr",
          "output_type": "stream",
          "text": [
            "/usr/local/lib/python3.10/dist-packages/torchvision/models/_utils.py:208: UserWarning: The parameter 'pretrained' is deprecated since 0.13 and may be removed in the future, please use 'weights' instead.\n",
            "  warnings.warn(\n",
            "/usr/local/lib/python3.10/dist-packages/torchvision/models/_utils.py:223: UserWarning: Arguments other than a weight enum or `None` for 'weights' are deprecated since 0.13 and may be removed in the future. The current behavior is equivalent to passing `weights=ResNet50_Weights.IMAGENET1K_V1`. You can also use `weights=ResNet50_Weights.DEFAULT` to get the most up-to-date weights.\n",
            "  warnings.warn(msg)\n",
            "Downloading: \"https://download.pytorch.org/models/resnet50-0676ba61.pth\" to /root/.cache/torch/hub/checkpoints/resnet50-0676ba61.pth\n",
            "100%|██████████| 97.8M/97.8M [00:01<00:00, 52.0MB/s]\n"
          ]
        },
        {
          "name": "stdout",
          "output_type": "stream",
          "text": [
            "Error loading image /content/drive/My Drive/Raw_Dataset/New_Dataset_080424/Purple_Blotch_Annotated/PB_D_E6_21_11_2023_DSC_7578.JPG: broken data stream when reading image file\n",
            "Error loading image /content/drive/My Drive/Raw_Dataset/New_Dataset_080424/Purple_Blotch_Annotated/PB_D_E6_18_11_2023_DSC_7116.JPG: broken data stream when reading image file\n",
            "Error loading image /content/drive/My Drive/Raw_Dataset/New_Dataset_080424/Purple_Blotch_Annotated/PB_D_E6_21_11_2023_DSC_7631.JPG: broken data stream when reading image file\n",
            "Error loading image /content/drive/My Drive/Raw_Dataset/New_Dataset_080424/Purple_Blotch_Annotated/PB_D_E6_18_11_2023_DSC_7118.JPG: broken data stream when reading image file\n",
            "Error loading image /content/drive/My Drive/Raw_Dataset/New_Dataset_080424/Purple_Blotch_Annotated/PB_D_E6_18_11_2023_DSC_7113.JPG: broken data stream when reading image file\n",
            "Error loading image /content/drive/My Drive/Raw_Dataset/New_Dataset_080424/Purple_Blotch_Annotated/PB_D_E6_21_11_2023_DSC_7698.JPG: broken data stream when reading image file\n",
            "Error loading image /content/drive/My Drive/Raw_Dataset/New_Dataset_080424/Purple_Blotch_Annotated/PB_D_E6_21_11_2023_DSC_7557.JPG: broken data stream when reading image file\n",
            "Error loading image /content/drive/My Drive/Raw_Dataset/New_Dataset_080424/Purple_Blotch_Annotated/PB_D_E6_18_11_2023_DSC_7182.JPG: broken data stream when reading image file\n",
            "Epoch 1/20  Loss: 1.2331  Accuracy: 0.6000\n",
            "Saved best model with accuracy: 0.6000\n",
            "Error loading image /content/drive/My Drive/Raw_Dataset/New_Dataset_080424/Purple_Blotch_Annotated/PB_D_E6_21_11_2023_DSC_7578.JPG: broken data stream when reading image file\n",
            "Error loading image /content/drive/My Drive/Raw_Dataset/New_Dataset_080424/Purple_Blotch_Annotated/PB_D_E6_18_11_2023_DSC_7116.JPG: broken data stream when reading image file\n",
            "Error loading image /content/drive/My Drive/Raw_Dataset/New_Dataset_080424/Purple_Blotch_Annotated/PB_D_E6_21_11_2023_DSC_7631.JPG: broken data stream when reading image file\n",
            "Error loading image /content/drive/My Drive/Raw_Dataset/New_Dataset_080424/Purple_Blotch_Annotated/PB_D_E6_18_11_2023_DSC_7118.JPG: broken data stream when reading image file\n",
            "Error loading image /content/drive/My Drive/Raw_Dataset/New_Dataset_080424/Purple_Blotch_Annotated/PB_D_E6_18_11_2023_DSC_7113.JPG: broken data stream when reading image file\n",
            "Error loading image /content/drive/My Drive/Raw_Dataset/New_Dataset_080424/Purple_Blotch_Annotated/PB_D_E6_21_11_2023_DSC_7698.JPG: broken data stream when reading image file\n",
            "Error loading image /content/drive/My Drive/Raw_Dataset/New_Dataset_080424/Purple_Blotch_Annotated/PB_D_E6_21_11_2023_DSC_7557.JPG: broken data stream when reading image file\n",
            "Error loading image /content/drive/My Drive/Raw_Dataset/New_Dataset_080424/Purple_Blotch_Annotated/PB_D_E6_18_11_2023_DSC_7182.JPG: broken data stream when reading image file\n",
            "Epoch 2/20  Loss: 1.1158  Accuracy: 0.6236\n",
            "Saved best model with accuracy: 0.6236\n",
            "Error loading image /content/drive/My Drive/Raw_Dataset/New_Dataset_080424/Purple_Blotch_Annotated/PB_D_E6_21_11_2023_DSC_7578.JPG: broken data stream when reading image file\n",
            "Error loading image /content/drive/My Drive/Raw_Dataset/New_Dataset_080424/Purple_Blotch_Annotated/PB_D_E6_18_11_2023_DSC_7116.JPG: broken data stream when reading image file\n",
            "Error loading image /content/drive/My Drive/Raw_Dataset/New_Dataset_080424/Purple_Blotch_Annotated/PB_D_E6_21_11_2023_DSC_7631.JPG: broken data stream when reading image file\n",
            "Error loading image /content/drive/My Drive/Raw_Dataset/New_Dataset_080424/Purple_Blotch_Annotated/PB_D_E6_18_11_2023_DSC_7118.JPG: broken data stream when reading image file\n",
            "Error loading image /content/drive/My Drive/Raw_Dataset/New_Dataset_080424/Purple_Blotch_Annotated/PB_D_E6_18_11_2023_DSC_7113.JPG: broken data stream when reading image file\n",
            "Error loading image /content/drive/My Drive/Raw_Dataset/New_Dataset_080424/Purple_Blotch_Annotated/PB_D_E6_21_11_2023_DSC_7698.JPG: broken data stream when reading image file\n",
            "Error loading image /content/drive/My Drive/Raw_Dataset/New_Dataset_080424/Purple_Blotch_Annotated/PB_D_E6_21_11_2023_DSC_7557.JPG: broken data stream when reading image file\n",
            "Error loading image /content/drive/My Drive/Raw_Dataset/New_Dataset_080424/Purple_Blotch_Annotated/PB_D_E6_18_11_2023_DSC_7182.JPG: broken data stream when reading image file\n",
            "Epoch 3/20  Loss: 1.0096  Accuracy: 0.6429\n",
            "Saved best model with accuracy: 0.6429\n",
            "Error loading image /content/drive/My Drive/Raw_Dataset/New_Dataset_080424/Purple_Blotch_Annotated/PB_D_E6_21_11_2023_DSC_7578.JPG: broken data stream when reading image file\n",
            "Error loading image /content/drive/My Drive/Raw_Dataset/New_Dataset_080424/Purple_Blotch_Annotated/PB_D_E6_18_11_2023_DSC_7116.JPG: broken data stream when reading image file\n",
            "Error loading image /content/drive/My Drive/Raw_Dataset/New_Dataset_080424/Purple_Blotch_Annotated/PB_D_E6_21_11_2023_DSC_7631.JPG: broken data stream when reading image file\n",
            "Error loading image /content/drive/My Drive/Raw_Dataset/New_Dataset_080424/Purple_Blotch_Annotated/PB_D_E6_18_11_2023_DSC_7118.JPG: broken data stream when reading image file\n",
            "Error loading image /content/drive/My Drive/Raw_Dataset/New_Dataset_080424/Purple_Blotch_Annotated/PB_D_E6_18_11_2023_DSC_7113.JPG: broken data stream when reading image file\n",
            "Error loading image /content/drive/My Drive/Raw_Dataset/New_Dataset_080424/Purple_Blotch_Annotated/PB_D_E6_21_11_2023_DSC_7698.JPG: broken data stream when reading image file\n",
            "Error loading image /content/drive/My Drive/Raw_Dataset/New_Dataset_080424/Purple_Blotch_Annotated/PB_D_E6_21_11_2023_DSC_7557.JPG: broken data stream when reading image file\n",
            "Error loading image /content/drive/My Drive/Raw_Dataset/New_Dataset_080424/Purple_Blotch_Annotated/PB_D_E6_18_11_2023_DSC_7182.JPG: broken data stream when reading image file\n",
            "Epoch 4/20  Loss: 0.9135  Accuracy: 0.6587\n",
            "Saved best model with accuracy: 0.6587\n",
            "Error loading image /content/drive/My Drive/Raw_Dataset/New_Dataset_080424/Purple_Blotch_Annotated/PB_D_E6_21_11_2023_DSC_7578.JPG: broken data stream when reading image file\n",
            "Error loading image /content/drive/My Drive/Raw_Dataset/New_Dataset_080424/Purple_Blotch_Annotated/PB_D_E6_18_11_2023_DSC_7116.JPG: broken data stream when reading image file\n",
            "Error loading image /content/drive/My Drive/Raw_Dataset/New_Dataset_080424/Purple_Blotch_Annotated/PB_D_E6_21_11_2023_DSC_7631.JPG: broken data stream when reading image file\n",
            "Error loading image /content/drive/My Drive/Raw_Dataset/New_Dataset_080424/Purple_Blotch_Annotated/PB_D_E6_18_11_2023_DSC_7118.JPG: broken data stream when reading image file\n",
            "Error loading image /content/drive/My Drive/Raw_Dataset/New_Dataset_080424/Purple_Blotch_Annotated/PB_D_E6_18_11_2023_DSC_7113.JPG: broken data stream when reading image file\n",
            "Error loading image /content/drive/My Drive/Raw_Dataset/New_Dataset_080424/Purple_Blotch_Annotated/PB_D_E6_21_11_2023_DSC_7698.JPG: broken data stream when reading image file\n",
            "Error loading image /content/drive/My Drive/Raw_Dataset/New_Dataset_080424/Purple_Blotch_Annotated/PB_D_E6_21_11_2023_DSC_7557.JPG: broken data stream when reading image file\n",
            "Error loading image /content/drive/My Drive/Raw_Dataset/New_Dataset_080424/Purple_Blotch_Annotated/PB_D_E6_18_11_2023_DSC_7182.JPG: broken data stream when reading image file\n",
            "Epoch 5/20  Loss: 0.8266  Accuracy: 0.6716\n",
            "Saved best model with accuracy: 0.6716\n",
            "Error loading image /content/drive/My Drive/Raw_Dataset/New_Dataset_080424/Purple_Blotch_Annotated/PB_D_E6_21_11_2023_DSC_7578.JPG: broken data stream when reading image file\n",
            "Error loading image /content/drive/My Drive/Raw_Dataset/New_Dataset_080424/Purple_Blotch_Annotated/PB_D_E6_18_11_2023_DSC_7116.JPG: broken data stream when reading image file\n",
            "Error loading image /content/drive/My Drive/Raw_Dataset/New_Dataset_080424/Purple_Blotch_Annotated/PB_D_E6_21_11_2023_DSC_7631.JPG: broken data stream when reading image file\n",
            "Error loading image /content/drive/My Drive/Raw_Dataset/New_Dataset_080424/Purple_Blotch_Annotated/PB_D_E6_18_11_2023_DSC_7118.JPG: broken data stream when reading image file\n",
            "Error loading image /content/drive/My Drive/Raw_Dataset/New_Dataset_080424/Purple_Blotch_Annotated/PB_D_E6_18_11_2023_DSC_7113.JPG: broken data stream when reading image file\n",
            "Error loading image /content/drive/My Drive/Raw_Dataset/New_Dataset_080424/Purple_Blotch_Annotated/PB_D_E6_21_11_2023_DSC_7698.JPG: broken data stream when reading image file\n",
            "Error loading image /content/drive/My Drive/Raw_Dataset/New_Dataset_080424/Purple_Blotch_Annotated/PB_D_E6_21_11_2023_DSC_7557.JPG: broken data stream when reading image file\n",
            "Error loading image /content/drive/My Drive/Raw_Dataset/New_Dataset_080424/Purple_Blotch_Annotated/PB_D_E6_18_11_2023_DSC_7182.JPG: broken data stream when reading image file\n",
            "Epoch 6/20  Loss: 0.7479  Accuracy: 0.6822\n",
            "Saved best model with accuracy: 0.6822\n",
            "Error loading image /content/drive/My Drive/Raw_Dataset/New_Dataset_080424/Purple_Blotch_Annotated/PB_D_E6_21_11_2023_DSC_7578.JPG: broken data stream when reading image file\n",
            "Error loading image /content/drive/My Drive/Raw_Dataset/New_Dataset_080424/Purple_Blotch_Annotated/PB_D_E6_18_11_2023_DSC_7116.JPG: broken data stream when reading image file\n",
            "Error loading image /content/drive/My Drive/Raw_Dataset/New_Dataset_080424/Purple_Blotch_Annotated/PB_D_E6_21_11_2023_DSC_7631.JPG: broken data stream when reading image file\n",
            "Error loading image /content/drive/My Drive/Raw_Dataset/New_Dataset_080424/Purple_Blotch_Annotated/PB_D_E6_18_11_2023_DSC_7118.JPG: broken data stream when reading image file\n",
            "Error loading image /content/drive/My Drive/Raw_Dataset/New_Dataset_080424/Purple_Blotch_Annotated/PB_D_E6_18_11_2023_DSC_7113.JPG: broken data stream when reading image file\n",
            "Error loading image /content/drive/My Drive/Raw_Dataset/New_Dataset_080424/Purple_Blotch_Annotated/PB_D_E6_21_11_2023_DSC_7698.JPG: broken data stream when reading image file\n",
            "Error loading image /content/drive/My Drive/Raw_Dataset/New_Dataset_080424/Purple_Blotch_Annotated/PB_D_E6_21_11_2023_DSC_7557.JPG: broken data stream when reading image file\n",
            "Error loading image /content/drive/My Drive/Raw_Dataset/New_Dataset_080424/Purple_Blotch_Annotated/PB_D_E6_18_11_2023_DSC_7182.JPG: broken data stream when reading image file\n",
            "Epoch 7/20  Loss: 0.6767  Accuracy: 0.6908\n",
            "Saved best model with accuracy: 0.6908\n",
            "Error loading image /content/drive/My Drive/Raw_Dataset/New_Dataset_080424/Purple_Blotch_Annotated/PB_D_E6_21_11_2023_DSC_7578.JPG: broken data stream when reading image file\n",
            "Error loading image /content/drive/My Drive/Raw_Dataset/New_Dataset_080424/Purple_Blotch_Annotated/PB_D_E6_18_11_2023_DSC_7116.JPG: broken data stream when reading image file\n",
            "Error loading image /content/drive/My Drive/Raw_Dataset/New_Dataset_080424/Purple_Blotch_Annotated/PB_D_E6_21_11_2023_DSC_7631.JPG: broken data stream when reading image file\n",
            "Error loading image /content/drive/My Drive/Raw_Dataset/New_Dataset_080424/Purple_Blotch_Annotated/PB_D_E6_18_11_2023_DSC_7118.JPG: broken data stream when reading image file\n",
            "Error loading image /content/drive/My Drive/Raw_Dataset/New_Dataset_080424/Purple_Blotch_Annotated/PB_D_E6_18_11_2023_DSC_7113.JPG: broken data stream when reading image file\n",
            "Error loading image /content/drive/My Drive/Raw_Dataset/New_Dataset_080424/Purple_Blotch_Annotated/PB_D_E6_21_11_2023_DSC_7698.JPG: broken data stream when reading image file\n",
            "Error loading image /content/drive/My Drive/Raw_Dataset/New_Dataset_080424/Purple_Blotch_Annotated/PB_D_E6_21_11_2023_DSC_7557.JPG: broken data stream when reading image file\n",
            "Error loading image /content/drive/My Drive/Raw_Dataset/New_Dataset_080424/Purple_Blotch_Annotated/PB_D_E6_18_11_2023_DSC_7182.JPG: broken data stream when reading image file\n",
            "Epoch 8/20  Loss: 0.6123  Accuracy: 0.6979\n",
            "Saved best model with accuracy: 0.6979\n",
            "Error loading image /content/drive/My Drive/Raw_Dataset/New_Dataset_080424/Purple_Blotch_Annotated/PB_D_E6_21_11_2023_DSC_7578.JPG: broken data stream when reading image file\n",
            "Error loading image /content/drive/My Drive/Raw_Dataset/New_Dataset_080424/Purple_Blotch_Annotated/PB_D_E6_18_11_2023_DSC_7116.JPG: broken data stream when reading image file\n",
            "Error loading image /content/drive/My Drive/Raw_Dataset/New_Dataset_080424/Purple_Blotch_Annotated/PB_D_E6_21_11_2023_DSC_7631.JPG: broken data stream when reading image file\n",
            "Error loading image /content/drive/My Drive/Raw_Dataset/New_Dataset_080424/Purple_Blotch_Annotated/PB_D_E6_18_11_2023_DSC_7118.JPG: broken data stream when reading image file\n",
            "Error loading image /content/drive/My Drive/Raw_Dataset/New_Dataset_080424/Purple_Blotch_Annotated/PB_D_E6_18_11_2023_DSC_7113.JPG: broken data stream when reading image file\n",
            "Error loading image /content/drive/My Drive/Raw_Dataset/New_Dataset_080424/Purple_Blotch_Annotated/PB_D_E6_21_11_2023_DSC_7698.JPG: broken data stream when reading image file\n",
            "Error loading image /content/drive/My Drive/Raw_Dataset/New_Dataset_080424/Purple_Blotch_Annotated/PB_D_E6_21_11_2023_DSC_7557.JPG: broken data stream when reading image file\n",
            "Error loading image /content/drive/My Drive/Raw_Dataset/New_Dataset_080424/Purple_Blotch_Annotated/PB_D_E6_18_11_2023_DSC_7182.JPG: broken data stream when reading image file\n",
            "Epoch 9/20  Loss: 0.5541  Accuracy: 0.7038\n",
            "Saved best model with accuracy: 0.7038\n",
            "Error loading image /content/drive/My Drive/Raw_Dataset/New_Dataset_080424/Purple_Blotch_Annotated/PB_D_E6_21_11_2023_DSC_7578.JPG: broken data stream when reading image file\n",
            "Error loading image /content/drive/My Drive/Raw_Dataset/New_Dataset_080424/Purple_Blotch_Annotated/PB_D_E6_18_11_2023_DSC_7116.JPG: broken data stream when reading image file\n",
            "Error loading image /content/drive/My Drive/Raw_Dataset/New_Dataset_080424/Purple_Blotch_Annotated/PB_D_E6_21_11_2023_DSC_7631.JPG: broken data stream when reading image file\n",
            "Error loading image /content/drive/My Drive/Raw_Dataset/New_Dataset_080424/Purple_Blotch_Annotated/PB_D_E6_18_11_2023_DSC_7118.JPG: broken data stream when reading image file\n",
            "Error loading image /content/drive/My Drive/Raw_Dataset/New_Dataset_080424/Purple_Blotch_Annotated/PB_D_E6_18_11_2023_DSC_7113.JPG: broken data stream when reading image file\n",
            "Error loading image /content/drive/My Drive/Raw_Dataset/New_Dataset_080424/Purple_Blotch_Annotated/PB_D_E6_21_11_2023_DSC_7698.JPG: broken data stream when reading image file\n",
            "Error loading image /content/drive/My Drive/Raw_Dataset/New_Dataset_080424/Purple_Blotch_Annotated/PB_D_E6_21_11_2023_DSC_7557.JPG: broken data stream when reading image file\n",
            "Error loading image /content/drive/My Drive/Raw_Dataset/New_Dataset_080424/Purple_Blotch_Annotated/PB_D_E6_18_11_2023_DSC_7182.JPG: broken data stream when reading image file\n",
            "Epoch 10/20  Loss: 0.5013  Accuracy: 0.7085\n",
            "Saved best model with accuracy: 0.7085\n",
            "Error loading image /content/drive/My Drive/Raw_Dataset/New_Dataset_080424/Purple_Blotch_Annotated/PB_D_E6_21_11_2023_DSC_7578.JPG: broken data stream when reading image file\n",
            "Error loading image /content/drive/My Drive/Raw_Dataset/New_Dataset_080424/Purple_Blotch_Annotated/PB_D_E6_18_11_2023_DSC_7116.JPG: broken data stream when reading image file\n",
            "Error loading image /content/drive/My Drive/Raw_Dataset/New_Dataset_080424/Purple_Blotch_Annotated/PB_D_E6_21_11_2023_DSC_7631.JPG: broken data stream when reading image file\n",
            "Error loading image /content/drive/My Drive/Raw_Dataset/New_Dataset_080424/Purple_Blotch_Annotated/PB_D_E6_18_11_2023_DSC_7118.JPG: broken data stream when reading image file\n",
            "Error loading image /content/drive/My Drive/Raw_Dataset/New_Dataset_080424/Purple_Blotch_Annotated/PB_D_E6_18_11_2023_DSC_7113.JPG: broken data stream when reading image file\n",
            "Error loading image /content/drive/My Drive/Raw_Dataset/New_Dataset_080424/Purple_Blotch_Annotated/PB_D_E6_21_11_2023_DSC_7698.JPG: broken data stream when reading image file\n",
            "Error loading image /content/drive/My Drive/Raw_Dataset/New_Dataset_080424/Purple_Blotch_Annotated/PB_D_E6_21_11_2023_DSC_7557.JPG: broken data stream when reading image file\n",
            "Error loading image /content/drive/My Drive/Raw_Dataset/New_Dataset_080424/Purple_Blotch_Annotated/PB_D_E6_18_11_2023_DSC_7182.JPG: broken data stream when reading image file\n",
            "Epoch 11/20  Loss: 0.4536  Accuracy: 0.7124\n",
            "Saved best model with accuracy: 0.7124\n",
            "Error loading image /content/drive/My Drive/Raw_Dataset/New_Dataset_080424/Purple_Blotch_Annotated/PB_D_E6_21_11_2023_DSC_7578.JPG: broken data stream when reading image file\n",
            "Error loading image /content/drive/My Drive/Raw_Dataset/New_Dataset_080424/Purple_Blotch_Annotated/PB_D_E6_18_11_2023_DSC_7116.JPG: broken data stream when reading image file\n",
            "Error loading image /content/drive/My Drive/Raw_Dataset/New_Dataset_080424/Purple_Blotch_Annotated/PB_D_E6_21_11_2023_DSC_7631.JPG: broken data stream when reading image file\n",
            "Error loading image /content/drive/My Drive/Raw_Dataset/New_Dataset_080424/Purple_Blotch_Annotated/PB_D_E6_18_11_2023_DSC_7118.JPG: broken data stream when reading image file\n",
            "Error loading image /content/drive/My Drive/Raw_Dataset/New_Dataset_080424/Purple_Blotch_Annotated/PB_D_E6_18_11_2023_DSC_7113.JPG: broken data stream when reading image file\n",
            "Error loading image /content/drive/My Drive/Raw_Dataset/New_Dataset_080424/Purple_Blotch_Annotated/PB_D_E6_21_11_2023_DSC_7698.JPG: broken data stream when reading image file\n",
            "Error loading image /content/drive/My Drive/Raw_Dataset/New_Dataset_080424/Purple_Blotch_Annotated/PB_D_E6_21_11_2023_DSC_7557.JPG: broken data stream when reading image file\n",
            "Error loading image /content/drive/My Drive/Raw_Dataset/New_Dataset_080424/Purple_Blotch_Annotated/PB_D_E6_18_11_2023_DSC_7182.JPG: broken data stream when reading image file\n",
            "Epoch 12/20  Loss: 0.4105  Accuracy: 0.7156\n",
            "Saved best model with accuracy: 0.7156\n",
            "Error loading image /content/drive/My Drive/Raw_Dataset/New_Dataset_080424/Purple_Blotch_Annotated/PB_D_E6_21_11_2023_DSC_7578.JPG: broken data stream when reading image file\n",
            "Error loading image /content/drive/My Drive/Raw_Dataset/New_Dataset_080424/Purple_Blotch_Annotated/PB_D_E6_18_11_2023_DSC_7116.JPG: broken data stream when reading image file\n",
            "Error loading image /content/drive/My Drive/Raw_Dataset/New_Dataset_080424/Purple_Blotch_Annotated/PB_D_E6_21_11_2023_DSC_7631.JPG: broken data stream when reading image file\n",
            "Error loading image /content/drive/My Drive/Raw_Dataset/New_Dataset_080424/Purple_Blotch_Annotated/PB_D_E6_18_11_2023_DSC_7118.JPG: broken data stream when reading image file\n",
            "Error loading image /content/drive/My Drive/Raw_Dataset/New_Dataset_080424/Purple_Blotch_Annotated/PB_D_E6_18_11_2023_DSC_7113.JPG: broken data stream when reading image file\n",
            "Error loading image /content/drive/My Drive/Raw_Dataset/New_Dataset_080424/Purple_Blotch_Annotated/PB_D_E6_21_11_2023_DSC_7698.JPG: broken data stream when reading image file\n",
            "Error loading image /content/drive/My Drive/Raw_Dataset/New_Dataset_080424/Purple_Blotch_Annotated/PB_D_E6_21_11_2023_DSC_7557.JPG: broken data stream when reading image file\n",
            "Error loading image /content/drive/My Drive/Raw_Dataset/New_Dataset_080424/Purple_Blotch_Annotated/PB_D_E6_18_11_2023_DSC_7182.JPG: broken data stream when reading image file\n",
            "Epoch 13/20  Loss: 0.3714  Accuracy: 0.7182\n",
            "Saved best model with accuracy: 0.7182\n",
            "Error loading image /content/drive/My Drive/Raw_Dataset/New_Dataset_080424/Purple_Blotch_Annotated/PB_D_E6_21_11_2023_DSC_7578.JPG: broken data stream when reading image file\n",
            "Error loading image /content/drive/My Drive/Raw_Dataset/New_Dataset_080424/Purple_Blotch_Annotated/PB_D_E6_18_11_2023_DSC_7116.JPG: broken data stream when reading image file\n",
            "Error loading image /content/drive/My Drive/Raw_Dataset/New_Dataset_080424/Purple_Blotch_Annotated/PB_D_E6_21_11_2023_DSC_7631.JPG: broken data stream when reading image file\n",
            "Error loading image /content/drive/My Drive/Raw_Dataset/New_Dataset_080424/Purple_Blotch_Annotated/PB_D_E6_18_11_2023_DSC_7118.JPG: broken data stream when reading image file\n",
            "Error loading image /content/drive/My Drive/Raw_Dataset/New_Dataset_080424/Purple_Blotch_Annotated/PB_D_E6_18_11_2023_DSC_7113.JPG: broken data stream when reading image file\n",
            "Error loading image /content/drive/My Drive/Raw_Dataset/New_Dataset_080424/Purple_Blotch_Annotated/PB_D_E6_21_11_2023_DSC_7698.JPG: broken data stream when reading image file\n",
            "Error loading image /content/drive/My Drive/Raw_Dataset/New_Dataset_080424/Purple_Blotch_Annotated/PB_D_E6_21_11_2023_DSC_7557.JPG: broken data stream when reading image file\n",
            "Error loading image /content/drive/My Drive/Raw_Dataset/New_Dataset_080424/Purple_Blotch_Annotated/PB_D_E6_18_11_2023_DSC_7182.JPG: broken data stream when reading image file\n",
            "Epoch 14/20  Loss: 0.3361  Accuracy: 0.7203\n",
            "Saved best model with accuracy: 0.7203\n",
            "Error loading image /content/drive/My Drive/Raw_Dataset/New_Dataset_080424/Purple_Blotch_Annotated/PB_D_E6_21_11_2023_DSC_7578.JPG: broken data stream when reading image file\n",
            "Error loading image /content/drive/My Drive/Raw_Dataset/New_Dataset_080424/Purple_Blotch_Annotated/PB_D_E6_18_11_2023_DSC_7116.JPG: broken data stream when reading image file\n",
            "Error loading image /content/drive/My Drive/Raw_Dataset/New_Dataset_080424/Purple_Blotch_Annotated/PB_D_E6_21_11_2023_DSC_7631.JPG: broken data stream when reading image file\n",
            "Error loading image /content/drive/My Drive/Raw_Dataset/New_Dataset_080424/Purple_Blotch_Annotated/PB_D_E6_18_11_2023_DSC_7118.JPG: broken data stream when reading image file\n",
            "Error loading image /content/drive/My Drive/Raw_Dataset/New_Dataset_080424/Purple_Blotch_Annotated/PB_D_E6_18_11_2023_DSC_7113.JPG: broken data stream when reading image file\n",
            "Error loading image /content/drive/My Drive/Raw_Dataset/New_Dataset_080424/Purple_Blotch_Annotated/PB_D_E6_21_11_2023_DSC_7698.JPG: broken data stream when reading image file\n",
            "Error loading image /content/drive/My Drive/Raw_Dataset/New_Dataset_080424/Purple_Blotch_Annotated/PB_D_E6_21_11_2023_DSC_7557.JPG: broken data stream when reading image file\n",
            "Error loading image /content/drive/My Drive/Raw_Dataset/New_Dataset_080424/Purple_Blotch_Annotated/PB_D_E6_18_11_2023_DSC_7182.JPG: broken data stream when reading image file\n",
            "Epoch 15/20  Loss: 0.3041  Accuracy: 0.7221\n",
            "Saved best model with accuracy: 0.7221\n",
            "Error loading image /content/drive/My Drive/Raw_Dataset/New_Dataset_080424/Purple_Blotch_Annotated/PB_D_E6_21_11_2023_DSC_7578.JPG: broken data stream when reading image file\n",
            "Error loading image /content/drive/My Drive/Raw_Dataset/New_Dataset_080424/Purple_Blotch_Annotated/PB_D_E6_18_11_2023_DSC_7116.JPG: broken data stream when reading image file\n",
            "Error loading image /content/drive/My Drive/Raw_Dataset/New_Dataset_080424/Purple_Blotch_Annotated/PB_D_E6_21_11_2023_DSC_7631.JPG: broken data stream when reading image file\n",
            "Error loading image /content/drive/My Drive/Raw_Dataset/New_Dataset_080424/Purple_Blotch_Annotated/PB_D_E6_18_11_2023_DSC_7118.JPG: broken data stream when reading image file\n",
            "Error loading image /content/drive/My Drive/Raw_Dataset/New_Dataset_080424/Purple_Blotch_Annotated/PB_D_E6_18_11_2023_DSC_7113.JPG: broken data stream when reading image file\n",
            "Error loading image /content/drive/My Drive/Raw_Dataset/New_Dataset_080424/Purple_Blotch_Annotated/PB_D_E6_21_11_2023_DSC_7698.JPG: broken data stream when reading image file\n",
            "Error loading image /content/drive/My Drive/Raw_Dataset/New_Dataset_080424/Purple_Blotch_Annotated/PB_D_E6_21_11_2023_DSC_7557.JPG: broken data stream when reading image file\n",
            "Error loading image /content/drive/My Drive/Raw_Dataset/New_Dataset_080424/Purple_Blotch_Annotated/PB_D_E6_18_11_2023_DSC_7182.JPG: broken data stream when reading image file\n",
            "Epoch 16/20  Loss: 0.2751  Accuracy: 0.7235\n",
            "Saved best model with accuracy: 0.7235\n",
            "Error loading image /content/drive/My Drive/Raw_Dataset/New_Dataset_080424/Purple_Blotch_Annotated/PB_D_E6_21_11_2023_DSC_7578.JPG: broken data stream when reading image file\n",
            "Error loading image /content/drive/My Drive/Raw_Dataset/New_Dataset_080424/Purple_Blotch_Annotated/PB_D_E6_18_11_2023_DSC_7116.JPG: broken data stream when reading image file\n",
            "Error loading image /content/drive/My Drive/Raw_Dataset/New_Dataset_080424/Purple_Blotch_Annotated/PB_D_E6_21_11_2023_DSC_7631.JPG: broken data stream when reading image file\n",
            "Error loading image /content/drive/My Drive/Raw_Dataset/New_Dataset_080424/Purple_Blotch_Annotated/PB_D_E6_18_11_2023_DSC_7118.JPG: broken data stream when reading image file\n",
            "Error loading image /content/drive/My Drive/Raw_Dataset/New_Dataset_080424/Purple_Blotch_Annotated/PB_D_E6_18_11_2023_DSC_7113.JPG: broken data stream when reading image file\n",
            "Error loading image /content/drive/My Drive/Raw_Dataset/New_Dataset_080424/Purple_Blotch_Annotated/PB_D_E6_21_11_2023_DSC_7698.JPG: broken data stream when reading image file\n",
            "Error loading image /content/drive/My Drive/Raw_Dataset/New_Dataset_080424/Purple_Blotch_Annotated/PB_D_E6_21_11_2023_DSC_7557.JPG: broken data stream when reading image file\n",
            "Error loading image /content/drive/My Drive/Raw_Dataset/New_Dataset_080424/Purple_Blotch_Annotated/PB_D_E6_18_11_2023_DSC_7182.JPG: broken data stream when reading image file\n",
            "Epoch 17/20  Loss: 0.2490  Accuracy: 0.7247\n",
            "Saved best model with accuracy: 0.7247\n",
            "Error loading image /content/drive/My Drive/Raw_Dataset/New_Dataset_080424/Purple_Blotch_Annotated/PB_D_E6_21_11_2023_DSC_7578.JPG: broken data stream when reading image file\n",
            "Error loading image /content/drive/My Drive/Raw_Dataset/New_Dataset_080424/Purple_Blotch_Annotated/PB_D_E6_18_11_2023_DSC_7116.JPG: broken data stream when reading image file\n",
            "Error loading image /content/drive/My Drive/Raw_Dataset/New_Dataset_080424/Purple_Blotch_Annotated/PB_D_E6_21_11_2023_DSC_7631.JPG: broken data stream when reading image file\n",
            "Error loading image /content/drive/My Drive/Raw_Dataset/New_Dataset_080424/Purple_Blotch_Annotated/PB_D_E6_18_11_2023_DSC_7118.JPG: broken data stream when reading image file\n",
            "Error loading image /content/drive/My Drive/Raw_Dataset/New_Dataset_080424/Purple_Blotch_Annotated/PB_D_E6_18_11_2023_DSC_7113.JPG: broken data stream when reading image file\n",
            "Error loading image /content/drive/My Drive/Raw_Dataset/New_Dataset_080424/Purple_Blotch_Annotated/PB_D_E6_21_11_2023_DSC_7698.JPG: broken data stream when reading image file\n",
            "Error loading image /content/drive/My Drive/Raw_Dataset/New_Dataset_080424/Purple_Blotch_Annotated/PB_D_E6_21_11_2023_DSC_7557.JPG: broken data stream when reading image file\n",
            "Error loading image /content/drive/My Drive/Raw_Dataset/New_Dataset_080424/Purple_Blotch_Annotated/PB_D_E6_18_11_2023_DSC_7182.JPG: broken data stream when reading image file\n",
            "Epoch 18/20  Loss: 0.2253  Accuracy: 0.7257\n",
            "Saved best model with accuracy: 0.7257\n",
            "Error loading image /content/drive/My Drive/Raw_Dataset/New_Dataset_080424/Purple_Blotch_Annotated/PB_D_E6_21_11_2023_DSC_7578.JPG: broken data stream when reading image file\n",
            "Error loading image /content/drive/My Drive/Raw_Dataset/New_Dataset_080424/Purple_Blotch_Annotated/PB_D_E6_18_11_2023_DSC_7116.JPG: broken data stream when reading image file\n",
            "Error loading image /content/drive/My Drive/Raw_Dataset/New_Dataset_080424/Purple_Blotch_Annotated/PB_D_E6_21_11_2023_DSC_7631.JPG: broken data stream when reading image file\n",
            "Error loading image /content/drive/My Drive/Raw_Dataset/New_Dataset_080424/Purple_Blotch_Annotated/PB_D_E6_18_11_2023_DSC_7118.JPG: broken data stream when reading image file\n",
            "Error loading image /content/drive/My Drive/Raw_Dataset/New_Dataset_080424/Purple_Blotch_Annotated/PB_D_E6_18_11_2023_DSC_7113.JPG: broken data stream when reading image file\n",
            "Error loading image /content/drive/My Drive/Raw_Dataset/New_Dataset_080424/Purple_Blotch_Annotated/PB_D_E6_21_11_2023_DSC_7698.JPG: broken data stream when reading image file\n",
            "Error loading image /content/drive/My Drive/Raw_Dataset/New_Dataset_080424/Purple_Blotch_Annotated/PB_D_E6_21_11_2023_DSC_7557.JPG: broken data stream when reading image file\n",
            "Error loading image /content/drive/My Drive/Raw_Dataset/New_Dataset_080424/Purple_Blotch_Annotated/PB_D_E6_18_11_2023_DSC_7182.JPG: broken data stream when reading image file\n",
            "Epoch 19/20  Loss: 0.2038  Accuracy: 0.7264\n",
            "Saved best model with accuracy: 0.7264\n",
            "Error loading image /content/drive/My Drive/Raw_Dataset/New_Dataset_080424/Purple_Blotch_Annotated/PB_D_E6_21_11_2023_DSC_7578.JPG: broken data stream when reading image file\n",
            "Error loading image /content/drive/My Drive/Raw_Dataset/New_Dataset_080424/Purple_Blotch_Annotated/PB_D_E6_18_11_2023_DSC_7116.JPG: broken data stream when reading image file\n",
            "Error loading image /content/drive/My Drive/Raw_Dataset/New_Dataset_080424/Purple_Blotch_Annotated/PB_D_E6_21_11_2023_DSC_7631.JPG: broken data stream when reading image file\n",
            "Error loading image /content/drive/My Drive/Raw_Dataset/New_Dataset_080424/Purple_Blotch_Annotated/PB_D_E6_18_11_2023_DSC_7118.JPG: broken data stream when reading image file\n",
            "Error loading image /content/drive/My Drive/Raw_Dataset/New_Dataset_080424/Purple_Blotch_Annotated/PB_D_E6_18_11_2023_DSC_7113.JPG: broken data stream when reading image file\n",
            "Error loading image /content/drive/My Drive/Raw_Dataset/New_Dataset_080424/Purple_Blotch_Annotated/PB_D_E6_21_11_2023_DSC_7698.JPG: broken data stream when reading image file\n",
            "Error loading image /content/drive/My Drive/Raw_Dataset/New_Dataset_080424/Purple_Blotch_Annotated/PB_D_E6_21_11_2023_DSC_7557.JPG: broken data stream when reading image file\n",
            "Error loading image /content/drive/My Drive/Raw_Dataset/New_Dataset_080424/Purple_Blotch_Annotated/PB_D_E6_18_11_2023_DSC_7182.JPG: broken data stream when reading image file\n",
            "Epoch 20/20  Loss: 0.1844  Accuracy: 0.7271\n",
            "Saved best model with accuracy: 0.7271\n"
          ]
        }
      ],
      "source": [
        "import torch\n",
        "import torch.nn as nn\n",
        "import torch.optim as optim\n",
        "import torchvision.models as models\n",
        "losses = []\n",
        "validation_losses = []\n",
        "model = models.resnet50(pretrained=True)\n",
        "num_classes = len(jpg_files_dict)\n",
        "model.fc = nn.Linear(model.fc.in_features, num_classes)\n",
        "device = torch.device('cuda' if torch.cuda.is_available() else 'cpu')\n",
        "model.to(device)\n",
        "\n",
        "criterion = criterion\n",
        "optimizer = optim.Adam(model.parameters(), lr=0.001)\n",
        "\n",
        "def train_model(model, train_loader, val_loader, criterion, optimizer, num_epochs=5):\n",
        "    best_acc = 0.0\n",
        "    for epoch in range(num_epochs):\n",
        "        model.train()\n",
        "        running_loss = 0.0\n",
        "        for inputs, labels in train_loader:\n",
        "            inputs, labels = inputs.to(device), labels.to(device)\n",
        "\n",
        "            optimizer.zero_grad()\n",
        "\n",
        "            outputs = model(inputs)\n",
        "            loss = criterion(outputs, labels)\n",
        "            loss.backward()\n",
        "            optimizer.step()\n",
        "\n",
        "            running_loss += loss.item() * inputs.size(0)\n",
        "\n",
        "        epoch_loss = running_loss / len(train_loader.dataset)\n",
        "        losses.append(epoch_loss)\n",
        "        model.eval()\n",
        "        corrects = 0\n",
        "        total = 0\n",
        "        with torch.no_grad():\n",
        "            for inputs, labels in val_loader:\n",
        "                inputs, labels = inputs.to(device), labels.to(device)\n",
        "                outputs = model(inputs)\n",
        "                _, predicted = torch.max(outputs, 1)\n",
        "                total += labels.size(0)\n",
        "                corrects += (predicted == labels).sum().item()\n",
        "\n",
        "        epoch_acc = corrects / total\n",
        "        print(f'Epoch {epoch + 1}/{num_epochs} Loss: {epoch_loss:.4f} Accuracy: {epoch_acc:.4f}')\n",
        "\n",
        "        if epoch_acc > best_acc:\n",
        "            best_acc = epoch_acc\n",
        "            torch.save(model.state_dict(), 'best_model.pth')\n",
        "            print('Saved best model with accuracy: {:.4f}'.format(best_acc))\n",
        "\n",
        "train_model(model, train_loader, val_loader, criterion, optimizer, num_epochs=20)\n",
        "def evaluate_model(model, val_loader):\n",
        "    model.eval()\n",
        "    corrects = 0\n",
        "    total = 0\n",
        "    with torch.no_grad():\n",
        "        for inputs, labels in val_loader:\n",
        "            inputs, labels = inputs.to(device), labels.to(device)\n",
        "            outputs = model(inputs)\n",
        "            _, predicted = torch.max(outputs, 1)\n",
        "            total += labels.size(0)\n",
        "            corrects += (predicted == labels).sum().item()\n",
        "\n",
        "    accuracy = corrects / total\n",
        "    print(f'Validation Accuracy: {accuracy:.4f}')\n"
      ]
    },
    {
      "cell_type": "code",
      "execution_count": 3,
      "metadata": {
        "colab": {
          "base_uri": "https://localhost:8080/"
        },
        "id": "70QeM-gFhw8i",
        "outputId": "877d4f67-7693-48c0-b910-f7542222b646"
      },
      "outputs": [
        {
          "name": "stdout",
          "output_type": "stream",
          "text": [
            "Validation Accuracy: 0.6826\n"
          ]
        }
      ],
      "source": [
        "model.load_state_dict(torch.load('best_model.pth'))\n",
        "evaluate_model(model, val_loader)"
      ]
    },
    {
      "cell_type": "code",
      "execution_count": 7,
      "metadata": {
        "colab": {
          "base_uri": "https://localhost:8080/",
          "height": 564
        },
        "id": "pT3WME6Ellsc",
        "outputId": "c87faff3-7f00-4fa8-d327-2580e5c8cb51"
      },
      "outputs": [
        {
          "data": {
            "image/png": "[encoded data removed]",
            "text/plain": [
              "<Figure size 1000x600 with 1 Axes>"
            ]
          },
          "metadata": {},
          "output_type": "display_data"
        }
      ],
      "source": [
        "import numpy as np\n",
        "import matplotlib.pyplot as plt\n",
        "epochs = 20\n",
        "plt.figure(figsize=(10, 6))\n",
        "plt.plot(range(epochs), losses, color='blue', label='Training Loss')\n",
        "plt.title('Training  Loss')\n",
        "plt.xlabel('Epoch')\n",
        "plt.ylabel('Loss')\n",
        "plt.legend()\n",
        "plt.show()\n"
      ]
    },
    {
      "cell_type": "code",
      "execution_count": 14,
      "metadata": {
        "colab": {
          "base_uri": "https://localhost:8080/"
        },
        "id": "khaUppH-lmN-",
        "outputId": "6e78c300-7300-4aa2-b143-dde168223f6a"
      },
      "outputs": [
        {
          "name": "stdout",
          "output_type": "stream",
          "text": [
            "Binary Crossentropy Loss: 2.3025851\n"
          ]
        }
      ],
      "source": [
        "import tensorflow as tf\n",
        "binary_crossentropy = tf.keras.losses.BinaryCrossentropy()\n",
        "y_true = tf.constant([1.0])\n",
        "y_pred = tf.constant([0.1])\n",
        "loss = binary_crossentropy(y_true, y_pred)\n",
        "print(\"Binary Crossentropy Loss:\", loss.numpy())"
      ]
    }
  ],
  "metadata": {
    "accelerator": "GPU",
    "colab": {
      "gpuType": "T4",
      "provenance": []
    },
    "kernelspec": {
      "display_name": "Python 3",
      "name": "python3"
    },
    "language_info": {
      "name": "python"
    }
  },
  "nbformat": 4,
  "nbformat_minor": 0
}
